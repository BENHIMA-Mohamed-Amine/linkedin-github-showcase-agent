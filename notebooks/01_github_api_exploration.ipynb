{
 "cells": [
  {
   "cell_type": "code",
   "execution_count": null,
   "id": "c7628ce1",
   "metadata": {},
   "outputs": [
    {
     "name": "stdout",
     "output_type": "stream",
     "text": [
      "Available tools: ['Get Issues', 'Get Issue', 'Comment on Issue', 'List open pull requests (PRs)', 'Get Pull Request', 'Overview of files included in PR', 'Create Pull Request', \"List Pull Requests' Files\", 'Create File', 'Read File', 'Update File', 'Delete File', 'Overview of existing files in Main branch', 'Overview of files in current working branch', 'List branches in this repository', 'Set active branch', 'Create a new branch', 'Get files from a directory', 'Search issues and pull requests', 'Search code', 'Create review request']\n"
     ]
    }
   ],
   "source": [
    "from langchain_community.utilities.github import GitHubAPIWrapper\n",
    "from langchain_community.agent_toolkits.github.toolkit import GitHubToolkit\n",
    "from dotenv import load_dotenv\n",
    "import os\n",
    "\n",
    "load_dotenv()\n",
    "\n",
    "# Load private key from file\n",
    "private_key_path = \"../secrets/github-app-private-key.pem\"\n",
    "private_key_path = os.getenv(\"GITHUB_APP_PRIVATE_KEY_PATH\", private_key_path)\n",
    "\n",
    "os.environ[\"GITHUB_APP_ID\"] = os.getenv(\"GITHUB_APP_ID\", \"\")\n",
    "os.environ[\"GITHUB_REPOSITORY\"] = os.getenv(\"GITHUB_REPOSITORY\", \"\")\n",
    "\n",
    "github_api = GitHubAPIWrapper()\n",
    "toolkit = GitHubToolkit.from_github_api_wrapper(github_api)\n",
    "tools = toolkit.get_tools()\n",
    "print(f\"Available tools: {[tool.name for tool in tools]}\")"
   ]
  },
  {
   "cell_type": "code",
   "execution_count": 5,
   "id": "6a23c08c",
   "metadata": {},
   "outputs": [
    {
     "name": "stdout",
     "output_type": "stream",
     "text": [
      "README Content:\n",
      "\n",
      "# full-guide-for-my-github\n",
      "\n",
      "This repo contains important links to my repos in github, to facilitate navigation for viewers\n",
      "\n",
      "#### GenAI\n",
      "- [Agentic coding exercise generation and evaluation project using: langchain, langgraph (ReACT agent), lagnsmith (LLM Monotoring and Debugging), Sandbox tool, Flask for REST API and Render for deployment](https://github.com/BENHIMA-Mohamed-Amine/generate-qcm-codingExo-evaluate-codingExo)\n",
      "- [Website Summarizer that summarizes websites by providing only their URL, using LangChain (RAG) and Streamlit for interface and deplyoment](https://github.com/BENHIMA-Mohamed-Amine/Website-Summarizer)\n",
      "- [Use Semantic search on an existing db using chromadb](https://github.com/BENHIMA-Mohamed-Amine/Semantic_search_using_chromadb/blob/main/semantic_search_using_chromadb.ipynb)\n",
      "- [Solifood project, my tasks were: implementing hybrid search, recommendation system, AI assistant](https://github.com/solution-challenge-2024/semantic_search)\n",
      "\n",
      "#### NLP\n",
      "- [fine-tuning bert on customer banks reviews using HuggingFace](https://github.com/BENHIMA-Mohamed-Amine/fine-tuning-bert)\n",
      "\n",
      "- [Bidirectional Arabic-English Translation Application using hugging face and flask](https://github.com/BENHIMA-Mohamed-Amine/Bidirectional-Arabic-English-Translation-Application)\n",
      "- [Build a Transformer architecture using TensorFlow for MT from es to en](https://github.com/BENHIMA-Mohamed-Amine/NLP-Projects/blob/master/build_a_transformer_network_tensorflow.ipynb)\n",
      "- [Build and train a CBOW model from scratch using Numpy, and visualize results](https://github.com/BENHIMA-Mohamed-Amine/NLP-Projects/tree/master/Build-Train-CBOW-model)\n",
      "- [Auto Complete words using N-grams language model from scratch](https://github.com/BENHIMA-Mohamed-Amine/NLP-Projects/tree/master/Word-AutoComplete-Ngram)\n",
      "- [POS Tagging using HMMs and Viterbi algo from scratch](https://github.com/BENHIMA-Mohamed-Amine/NLP-Projects/tree/master/POS-Tagging-HMM-Viterbi)\n",
      "- [Frequency Based Sentiment Analysis in naive bayes from scratch using Numpy for better intuition](https://github.com/BENHIMA-Mohamed-Amine/NLP-Projects/tree/master/Naive-Baye-Sentiment-Analysis)\n",
      "- [Frequency Based Sentiment Analysis in Logistic Regression from scratch using Numpy for deepe understanding](https://github.com/BENHIMA-Mohamed-Amine/NLP-Projects/tree/master/Frequency-Based-Sentiment-Analysis-in-Logistic-Regression)\n",
      "\n",
      "### CV Project\n",
      "- [Fine-tuning resnet50 on PlantVillage dataset for Plant diseases detection](https://github.com/BENHIMA-Mohamed-Amine/Plant-Diseases-Detection-ResNet50-PlantVillage-Dataset)\n",
      "- [Player object detection using YoLOv8](https://github.com/BENHIMA-Mohamed-Amine/Blockard-Player-Object-Detection)\n",
      "\n",
      "#### ML projects\n",
      "- [Build NN using Pytorch and train it on iris dataset](https://github.com/BENHIMA-Mohamed-Amine/iris-prbl-torch/blob/main/iris_classification_pytorch.ipynb) \n",
      "- [Build a KNN Classifier from scratch using NumPy](https://github.com/BENHIMA-Mohamed-Amine/KNN_from_scratch/blob/main/knn.ipynb)\n",
      "  - Train in on the Iris dataset from sklearn\n",
      "  - Accuracy: 97% \n",
      "- [Dermatology multi classification using Logistic Regression](https://github.com/BENHIMA-Mohamed-Amine/Dermatology-/blob/main/multi-class-with-logistic-regression.ipynb)\n",
      "  - using fasteda and dabl for EDA\n",
      "  - Logistic Regression model for classification\n",
      "  - classification report to show up metrics\n",
      "- [Binary classifier for Ad click](https://github.com/BENHIMA-Mohamed-Amine/add-click-logistic-regression/blob/main/advertising.csv)\n",
      "  - EDA\n",
      "  - Hyper-parameter tuning using GridSearchCV \n",
      "- [Different techniques to handle outliers](https://github.com/BENHIMA-Mohamed-Amine/handle-outliers/blob/main/handle_outliers.ipynb)\n",
      "- [Handling missing values on the Titanic dataset](https://github.com/BENHIMA-Mohamed-Amine/Handle-missing-values/blob/main/handling_messing_values.ipynb)\n",
      "- [L layer NN from Scratch using Numpy, for cat classification](https://github.com/BENHIMA-Mohamed-Amine/Binary-classification/blob/master/NN_multiple_hidden_layer.ipynb)\n",
      "- [NN with 1 hidden layer from scratch using Numpy](https://github.com/BENHIMA-Mohamed-Amine/NN-with-one-hidden-layer/blob/master/planar_classification_model.ipynb)\n",
      "- [Cat classification using logistic regression from scratch and test it using F1 score](https://github.com/BENHIMA-Mohamed-Amine/Binary-classification/blob/master/vectorized%20_binary_classification%20_cats.ipynb)\n",
      "- [Cat classification with logistic regression using scikit-learn](https://github.com/BENHIMA-Mohamed-Amine/Binary-classification/blob/master/sklearn_binary_classification_cats.ipynb)\n",
      "#### Web Development \n",
      "- [stock managment website using html, css, js, php, mysql and Merise](https://github.com/BENHIMA-Mohamed-Amine/stock-management)\n",
      "  \n",
      "#### Problem Solving, Data Structures and Algorithms\n",
      "- [Building a complex type for complex numbers from scratch in c++](https://github.com/BENHIMA-Mohamed-Amine/complex_type_from_scratch)\n",
      "  - this project is part of my engineering degree \n",
      "- [Convolution operation with padding on dynamic matrices](https://github.com/BENHIMA-Mohamed-Amine/Data-Structures-and-algo/tree/master/matrixConvolution)\n",
      "- [Fibonacci Solution in C using Recursion, Iteration, and Matrix Exponentiation](https://github.com/BENHIMA-Mohamed-Amine/Data-Structures-and-algo/blob/master/fibonacci-problem.c)\n",
      "- [Amstrong number using C](https://github.com/BENHIMA-Mohamed-Amine/Data-Structures-and-algo/blob/master/amstrong.c)\n",
      "- [Switching a pair in C](https://github.com/BENHIMA-Mohamed-Amine/Data-Structures-and-algo/blob/master/switch-pair.c)\n",
      "- [Calculate the square root of a number using Newton-Raphson Method in C](https://github.com/BENHIMA-Mohamed-Amine/Data-Structures-and-algo/tree/master/Square-root)\n",
      "\n",
      "\n"
     ]
    }
   ],
   "source": [
    "# Get the \"Read File\" tool\n",
    "read_file_tool = None\n",
    "for tool in tools:\n",
    "    if tool.name == \"Read File\":\n",
    "        read_file_tool = tool\n",
    "        break\n",
    "\n",
    "# Read README content\n",
    "readme_content = read_file_tool.invoke({\n",
    "    \"formatted_filepath\": \"README.md\"\n",
    "})\n",
    "print(\"README Content:\")\n",
    "print(readme_content)"
   ]
  },
  {
   "cell_type": "code",
   "execution_count": 8,
   "id": "5472bc05",
   "metadata": {},
   "outputs": [],
   "source": [
    "# Get project overview\n",
    "overview_tool = next(tool for tool in tools if tool.name == \"Overview of existing files in Main branch\")\n",
    "project_structure = overview_tool.invoke({})\n",
    "\n",
    "# Read package/dependency files to identify tech stack\n",
    "read_file_tool = next(tool for tool in tools if tool.name == \"Read File\")\n",
    "\n",
    "tech_files = [\"package.json\", \"requirements.txt\", \"Cargo.toml\", \"pom.xml\", \"go.mod\"]\n",
    "tech_stack = {}\n",
    "\n",
    "for file in tech_files:\n",
    "    try:\n",
    "        content = read_file_tool.invoke({\"formatted_filepath\": file})\n",
    "        tech_stack[file] = content\n",
    "    except:\n",
    "        content = \"no dependency file found\""
   ]
  },
  {
   "cell_type": "code",
   "execution_count": 9,
   "id": "66b3e6c4",
   "metadata": {},
   "outputs": [
    {
     "data": {
      "text/plain": [
       "'Found 1 files in the main branch:\\nREADME.md'"
      ]
     },
     "execution_count": 9,
     "metadata": {},
     "output_type": "execute_result"
    }
   ],
   "source": [
    "project_structure"
   ]
  },
  {
   "cell_type": "code",
   "execution_count": 10,
   "id": "50e1e144",
   "metadata": {},
   "outputs": [
    {
     "data": {
      "text/plain": [
       "'File not found `go.mod` on branch`main`. Error: 404 {\"message\": \"Not Found\", \"documentation_url\": \"https://docs.github.com/rest/repos/contents#get-repository-content\", \"status\": \"404\"}'"
      ]
     },
     "execution_count": 10,
     "metadata": {},
     "output_type": "execute_result"
    }
   ],
   "source": [
    "content"
   ]
  },
  {
   "cell_type": "code",
   "execution_count": 11,
   "id": "08ee1851",
   "metadata": {},
   "outputs": [
    {
     "data": {
      "text/plain": [
       "{'package.json': 'File not found `package.json` on branch`main`. Error: 404 {\"message\": \"Not Found\", \"documentation_url\": \"https://docs.github.com/rest/repos/contents#get-repository-content\", \"status\": \"404\"}',\n",
       " 'requirements.txt': 'File not found `requirements.txt` on branch`main`. Error: 404 {\"message\": \"Not Found\", \"documentation_url\": \"https://docs.github.com/rest/repos/contents#get-repository-content\", \"status\": \"404\"}',\n",
       " 'Cargo.toml': 'File not found `Cargo.toml` on branch`main`. Error: 404 {\"message\": \"Not Found\", \"documentation_url\": \"https://docs.github.com/rest/repos/contents#get-repository-content\", \"status\": \"404\"}',\n",
       " 'pom.xml': 'File not found `pom.xml` on branch`main`. Error: 404 {\"message\": \"Not Found\", \"documentation_url\": \"https://docs.github.com/rest/repos/contents#get-repository-content\", \"status\": \"404\"}',\n",
       " 'go.mod': 'File not found `go.mod` on branch`main`. Error: 404 {\"message\": \"Not Found\", \"documentation_url\": \"https://docs.github.com/rest/repos/contents#get-repository-content\", \"status\": \"404\"}'}"
      ]
     },
     "execution_count": 11,
     "metadata": {},
     "output_type": "execute_result"
    }
   ],
   "source": [
    "tech_stack"
   ]
  },
  {
   "cell_type": "code",
   "execution_count": null,
   "id": "33382eea",
   "metadata": {},
   "outputs": [],
   "source": []
  }
 ],
 "metadata": {
  "kernelspec": {
   "display_name": ".venv",
   "language": "python",
   "name": "python3"
  },
  "language_info": {
   "codemirror_mode": {
    "name": "ipython",
    "version": 3
   },
   "file_extension": ".py",
   "mimetype": "text/x-python",
   "name": "python",
   "nbconvert_exporter": "python",
   "pygments_lexer": "ipython3",
   "version": "3.12.3"
  }
 },
 "nbformat": 4,
 "nbformat_minor": 5
}
