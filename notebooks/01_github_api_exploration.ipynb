{
 "cells": [
  {
   "cell_type": "code",
   "execution_count": 55,
   "id": "ef3ab2d6",
   "metadata": {},
   "outputs": [
    {
     "data": {
      "text/plain": [
       "'./secrets/github-app-private-key.pem'"
      ]
     },
     "execution_count": 55,
     "metadata": {},
     "output_type": "execute_result"
    }
   ],
   "source": [
    "import os\n",
    "from dotenv import load_dotenv\n",
    "load_dotenv()\n",
    "\n",
    "os.getenv(\"GITHUB_APP_PRIVATE_KEY\")"
   ]
  },
  {
   "cell_type": "code",
   "execution_count": 52,
   "id": "c7628ce1",
   "metadata": {},
   "outputs": [
    {
     "name": "stdout",
     "output_type": "stream",
     "text": [
      "./secrets/github-app-private-key.pem\n"
     ]
    },
    {
     "ename": "FileNotFoundError",
     "evalue": "Private key file not found at ./secrets/github-app-private-key.pem",
     "output_type": "error",
     "traceback": [
      "\u001b[31m---------------------------------------------------------------------------\u001b[39m",
      "\u001b[31mFileNotFoundError\u001b[39m                         Traceback (most recent call last)",
      "\u001b[36mCell\u001b[39m\u001b[36m \u001b[39m\u001b[32mIn[52]\u001b[39m\u001b[32m, line 16\u001b[39m\n\u001b[32m     14\u001b[39m     os.environ[\u001b[33m\"\u001b[39m\u001b[33mGITHUB_APP_PRIVATE_KEY\u001b[39m\u001b[33m\"\u001b[39m] = private_key_content\n\u001b[32m     15\u001b[39m \u001b[38;5;28;01melse\u001b[39;00m:\n\u001b[32m---> \u001b[39m\u001b[32m16\u001b[39m     \u001b[38;5;28;01mraise\u001b[39;00m \u001b[38;5;167;01mFileNotFoundError\u001b[39;00m(\u001b[33mf\u001b[39m\u001b[33m\"\u001b[39m\u001b[33mPrivate key file not found at \u001b[39m\u001b[38;5;132;01m{\u001b[39;00mprivate_key_path\u001b[38;5;132;01m}\u001b[39;00m\u001b[33m\"\u001b[39m)\n\u001b[32m     18\u001b[39m os.environ[\u001b[33m\"\u001b[39m\u001b[33mGITHUB_APP_ID\u001b[39m\u001b[33m\"\u001b[39m] = os.getenv(\u001b[33m\"\u001b[39m\u001b[33mGITHUB_APP_ID\u001b[39m\u001b[33m\"\u001b[39m, \u001b[33m\"\u001b[39m\u001b[33m\"\u001b[39m)\n\u001b[32m     19\u001b[39m os.environ[\u001b[33m\"\u001b[39m\u001b[33mGITHUB_REPOSITORY\u001b[39m\u001b[33m\"\u001b[39m] = os.getenv(\u001b[33m\"\u001b[39m\u001b[33mGITHUB_REPOSITORY\u001b[39m\u001b[33m\"\u001b[39m, \u001b[33m\"\u001b[39m\u001b[33m\"\u001b[39m)\n",
      "\u001b[31mFileNotFoundError\u001b[39m: Private key file not found at ./secrets/github-app-private-key.pem"
     ]
    }
   ],
   "source": [
    "from langchain_community.utilities.github import GitHubAPIWrapper\n",
    "from langchain_community.agent_toolkits.github.toolkit import GitHubToolkit\n",
    "from dotenv import load_dotenv\n",
    "from pathlib import Path\n",
    "import os\n",
    "\n",
    "load_dotenv()\n",
    "\n",
    "# Load private key from file\n",
    "private_key_path = os.getenv(\"GITHUB_APP_PRIVATE_KEY\")\n",
    "print(private_key_path)\n",
    "if private_key_path and Path(private_key_path).exists():\n",
    "    private_key_content = Path(private_key_path).read_text()\n",
    "    os.environ[\"GITHUB_APP_PRIVATE_KEY\"] = private_key_content\n",
    "else:\n",
    "    raise FileNotFoundError(f\"Private key file not found at {private_key_path}\")\n",
    "\n",
    "os.environ[\"GITHUB_APP_ID\"] = os.getenv(\"GITHUB_APP_ID\", \"\")\n",
    "os.environ[\"GITHUB_REPOSITORY\"] = os.getenv(\"GITHUB_REPOSITORY\", \"\")\n",
    "\n",
    "github_api = GitHubAPIWrapper()\n",
    "toolkit = GitHubToolkit.from_github_api_wrapper(github_api)\n",
    "tools = toolkit.get_tools()\n",
    "print(f\"Available tools: {[tool.name for tool in tools]}\")"
   ]
  },
  {
   "cell_type": "code",
   "execution_count": null,
   "id": "6a23c08c",
   "metadata": {},
   "outputs": [],
   "source": []
  },
  {
   "cell_type": "code",
   "execution_count": null,
   "id": "5472bc05",
   "metadata": {},
   "outputs": [],
   "source": []
  }
 ],
 "metadata": {
  "kernelspec": {
   "display_name": ".venv",
   "language": "python",
   "name": "python3"
  },
  "language_info": {
   "codemirror_mode": {
    "name": "ipython",
    "version": 3
   },
   "file_extension": ".py",
   "mimetype": "text/x-python",
   "name": "python",
   "nbconvert_exporter": "python",
   "pygments_lexer": "ipython3",
   "version": "3.12.3"
  }
 },
 "nbformat": 4,
 "nbformat_minor": 5
}
