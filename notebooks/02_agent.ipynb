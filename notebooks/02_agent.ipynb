{
 "cells": [
  {
   "cell_type": "code",
   "execution_count": 9,
   "id": "5076197e",
   "metadata": {},
   "outputs": [
    {
     "data": {
      "text/plain": [
       "True"
      ]
     },
     "execution_count": 9,
     "metadata": {},
     "output_type": "execute_result"
    }
   ],
   "source": [
    "from dotenv import load_dotenv\n",
    "import os\n",
    "load_dotenv()\n",
    "\n",
    "# os.environ['GITHUB_APP_ID'] = os.getenv('GITHUB_APP_ID', '')\n",
    "# os.environ['GITHUB_APP_PRIVATE_KEY'] = os.getenv('GITHUB_APP_PRIVATE_KEY', '')\n",
    "# os.environ['GITHUB_REPOSITORY'] = os.getenv('GITHUB_REPOSITORY', '')\n",
    "# os.environ['GOOGLE_API_KEY'] = os.getenv('GOOGLE_API_KEY', '')\n"
   ]
  },
  {
   "cell_type": "code",
   "execution_count": 10,
   "id": "175cd0f3",
   "metadata": {},
   "outputs": [
    {
     "data": {
      "text/plain": [
       "[GitHubAction(name='Get Issues', description=\"\\nThis tool will fetch a list of the repository's issues. It will return the title, and issue number of 5 issues. It takes no input.\", args_schema=<class 'langchain_community.agent_toolkits.github.toolkit.NoInput'>, api_wrapper=GitHubAPIWrapper(github=<github.MainClass.Github object at 0x7fd174316570>, github_repo_instance=Repository(full_name=\"BENHIMA-Mohamed-Amine/full-guide-for-my-github\"), github_repository='BENHIMA-Mohamed-Amine/full-guide-for-my-github', github_app_id='1472101', github_app_private_key='../secrets/github-app-private-key.pem', active_branch='main', github_base_branch='main'), mode='get_issues'),\n",
       " GitHubAction(name='Get Issue', description='\\nThis tool will fetch the title, body, and comment thread of a specific issue. **VERY IMPORTANT**: You must specify the issue number as an integer.', args_schema=<class 'langchain_community.agent_toolkits.github.toolkit.GetIssue'>, api_wrapper=GitHubAPIWrapper(github=<github.MainClass.Github object at 0x7fd174316570>, github_repo_instance=Repository(full_name=\"BENHIMA-Mohamed-Amine/full-guide-for-my-github\"), github_repository='BENHIMA-Mohamed-Amine/full-guide-for-my-github', github_app_id='1472101', github_app_private_key='../secrets/github-app-private-key.pem', active_branch='main', github_base_branch='main'), mode='get_issue'),\n",
       " GitHubAction(name='Comment on Issue', description=\"\\nThis tool is useful when you need to comment on a GitHub issue. Simply pass in the issue number and the comment you would like to make. Please use this sparingly as we don't want to clutter the comment threads. **VERY IMPORTANT**: Your input to this tool MUST strictly follow these rules:\\n\\n- First you must specify the issue number as an integer\\n- Then you must place two newlines\\n- Then you must specify your comment\", args_schema=<class 'langchain_community.agent_toolkits.github.toolkit.CommentOnIssue'>, api_wrapper=GitHubAPIWrapper(github=<github.MainClass.Github object at 0x7fd174316570>, github_repo_instance=Repository(full_name=\"BENHIMA-Mohamed-Amine/full-guide-for-my-github\"), github_repository='BENHIMA-Mohamed-Amine/full-guide-for-my-github', github_app_id='1472101', github_app_private_key='../secrets/github-app-private-key.pem', active_branch='main', github_base_branch='main'), mode='comment_on_issue'),\n",
       " GitHubAction(name='List open pull requests (PRs)', description=\"\\nThis tool will fetch a list of the repository's Pull Requests (PRs). It will return the title, and PR number of 5 PRs. It takes no input.\", args_schema=<class 'langchain_community.agent_toolkits.github.toolkit.NoInput'>, api_wrapper=GitHubAPIWrapper(github=<github.MainClass.Github object at 0x7fd174316570>, github_repo_instance=Repository(full_name=\"BENHIMA-Mohamed-Amine/full-guide-for-my-github\"), github_repository='BENHIMA-Mohamed-Amine/full-guide-for-my-github', github_app_id='1472101', github_app_private_key='../secrets/github-app-private-key.pem', active_branch='main', github_base_branch='main'), mode='list_open_pull_requests'),\n",
       " GitHubAction(name='Get Pull Request', description='\\nThis tool will fetch the title, body, comment thread and commit history of a specific Pull Request (by PR number). **VERY IMPORTANT**: You must specify the PR number as an integer.', args_schema=<class 'langchain_community.agent_toolkits.github.toolkit.GetPR'>, api_wrapper=GitHubAPIWrapper(github=<github.MainClass.Github object at 0x7fd174316570>, github_repo_instance=Repository(full_name=\"BENHIMA-Mohamed-Amine/full-guide-for-my-github\"), github_repository='BENHIMA-Mohamed-Amine/full-guide-for-my-github', github_app_id='1472101', github_app_private_key='../secrets/github-app-private-key.pem', active_branch='main', github_base_branch='main'), mode='get_pull_request'),\n",
       " GitHubAction(name='Overview of files included in PR', description='\\nThis tool will fetch the full text of all files in a pull request (PR) given the PR number as an input. This is useful for understanding the code changes in a PR or contributing to it. **VERY IMPORTANT**: You must specify the PR number as an integer input parameter.', args_schema=<class 'langchain_community.agent_toolkits.github.toolkit.GetPR'>, api_wrapper=GitHubAPIWrapper(github=<github.MainClass.Github object at 0x7fd174316570>, github_repo_instance=Repository(full_name=\"BENHIMA-Mohamed-Amine/full-guide-for-my-github\"), github_repository='BENHIMA-Mohamed-Amine/full-guide-for-my-github', github_app_id='1472101', github_app_private_key='../secrets/github-app-private-key.pem', active_branch='main', github_base_branch='main'), mode='list_pull_request_files'),\n",
       " GitHubAction(name='Create Pull Request', description='\\nThis tool is useful when you need to create a new pull request in a GitHub repository. **VERY IMPORTANT**: Your input to this tool MUST strictly follow these rules:\\n\\n- First you must specify the title of the pull request\\n- Then you must place two newlines\\n- Then you must write the body or description of the pull request\\n\\nWhen appropriate, always reference relevant issues in the body by using the syntax `closes #<issue_number` like `closes #3, closes #6`.\\nFor example, if you would like to create a pull request called \"README updates\" with contents \"added contributors\\' names, closes #3\", you would pass in the following string:\\n\\nREADME updates\\n\\nadded contributors\\' names, closes #3', args_schema=<class 'langchain_community.agent_toolkits.github.toolkit.CreatePR'>, api_wrapper=GitHubAPIWrapper(github=<github.MainClass.Github object at 0x7fd174316570>, github_repo_instance=Repository(full_name=\"BENHIMA-Mohamed-Amine/full-guide-for-my-github\"), github_repository='BENHIMA-Mohamed-Amine/full-guide-for-my-github', github_app_id='1472101', github_app_private_key='../secrets/github-app-private-key.pem', active_branch='main', github_base_branch='main'), mode='create_pull_request'),\n",
       " GitHubAction(name=\"List Pull Requests' Files\", description='\\nThis tool will fetch the full text of all files in a pull request (PR) given the PR number as an input. This is useful for understanding the code changes in a PR or contributing to it. **VERY IMPORTANT**: You must specify the PR number as an integer input parameter.', args_schema=<class 'langchain_community.agent_toolkits.github.toolkit.GetPR'>, api_wrapper=GitHubAPIWrapper(github=<github.MainClass.Github object at 0x7fd174316570>, github_repo_instance=Repository(full_name=\"BENHIMA-Mohamed-Amine/full-guide-for-my-github\"), github_repository='BENHIMA-Mohamed-Amine/full-guide-for-my-github', github_app_id='1472101', github_app_private_key='../secrets/github-app-private-key.pem', active_branch='main', github_base_branch='main'), mode='list_pull_request_files'),\n",
       " GitHubAction(name='Create File', description='\\nThis tool is a wrapper for the GitHub API, useful when you need to create a file in a GitHub repository. **VERY IMPORTANT**: Your input to this tool MUST strictly follow these rules:\\n\\n- First you must specify which file to create by passing a full file path (**IMPORTANT**: the path must not start with a slash)\\n- Then you must specify the contents of the file\\n\\nFor example, if you would like to create a file called /test/test.txt with contents \"test contents\", you would pass in the following string:\\n\\ntest/test.txt\\n\\ntest contents', args_schema=<class 'langchain_community.agent_toolkits.github.toolkit.CreateFile'>, api_wrapper=GitHubAPIWrapper(github=<github.MainClass.Github object at 0x7fd174316570>, github_repo_instance=Repository(full_name=\"BENHIMA-Mohamed-Amine/full-guide-for-my-github\"), github_repository='BENHIMA-Mohamed-Amine/full-guide-for-my-github', github_app_id='1472101', github_app_private_key='../secrets/github-app-private-key.pem', active_branch='main', github_base_branch='main'), mode='create_file'),\n",
       " GitHubAction(name='Read File', description='\\nThis tool is a wrapper for the GitHub API, useful when you need to read the contents of a file. Simply pass in the full file path of the file you would like to read. **IMPORTANT**: the path must not start with a slash', args_schema=<class 'langchain_community.agent_toolkits.github.toolkit.ReadFile'>, api_wrapper=GitHubAPIWrapper(github=<github.MainClass.Github object at 0x7fd174316570>, github_repo_instance=Repository(full_name=\"BENHIMA-Mohamed-Amine/full-guide-for-my-github\"), github_repository='BENHIMA-Mohamed-Amine/full-guide-for-my-github', github_app_id='1472101', github_app_private_key='../secrets/github-app-private-key.pem', active_branch='main', github_base_branch='main'), mode='read_file'),\n",
       " GitHubAction(name='Update File', description='\\nThis tool is a wrapper for the GitHub API, useful when you need to update the contents of a file in a GitHub repository. **VERY IMPORTANT**: Your input to this tool MUST strictly follow these rules:\\n\\n- First you must specify which file to modify by passing a full file path (**IMPORTANT**: the path must not start with a slash)\\n- Then you must specify the old contents which you would like to replace wrapped in OLD <<<< and >>>> OLD\\n- Then you must specify the new contents which you would like to replace the old contents with wrapped in NEW <<<< and >>>> NEW\\n\\nFor example, if you would like to replace the contents of the file /test/test.txt from \"old contents\" to \"new contents\", you would pass in the following string:\\n\\ntest/test.txt\\n\\nThis is text that will not be changed\\nOLD <<<<\\nold contents\\n>>>> OLD\\nNEW <<<<\\nnew contents\\n>>>> NEW', args_schema=<class 'langchain_community.agent_toolkits.github.toolkit.UpdateFile'>, api_wrapper=GitHubAPIWrapper(github=<github.MainClass.Github object at 0x7fd174316570>, github_repo_instance=Repository(full_name=\"BENHIMA-Mohamed-Amine/full-guide-for-my-github\"), github_repository='BENHIMA-Mohamed-Amine/full-guide-for-my-github', github_app_id='1472101', github_app_private_key='../secrets/github-app-private-key.pem', active_branch='main', github_base_branch='main'), mode='update_file'),\n",
       " GitHubAction(name='Delete File', description='\\nThis tool is a wrapper for the GitHub API, useful when you need to delete a file in a GitHub repository. Simply pass in the full file path of the file you would like to delete. **IMPORTANT**: the path must not start with a slash', args_schema=<class 'langchain_community.agent_toolkits.github.toolkit.DeleteFile'>, api_wrapper=GitHubAPIWrapper(github=<github.MainClass.Github object at 0x7fd174316570>, github_repo_instance=Repository(full_name=\"BENHIMA-Mohamed-Amine/full-guide-for-my-github\"), github_repository='BENHIMA-Mohamed-Amine/full-guide-for-my-github', github_app_id='1472101', github_app_private_key='../secrets/github-app-private-key.pem', active_branch='main', github_base_branch='main'), mode='delete_file'),\n",
       " GitHubAction(name='Overview of existing files in Main branch', description='\\nThis tool will provide an overview of all existing files in the main branch of the repository. It will list the file names, their respective paths, and a brief summary of their contents. This can be useful for understanding the structure and content of the repository, especially when navigating through large codebases. No input parameters are required.', args_schema=<class 'langchain_community.agent_toolkits.github.toolkit.NoInput'>, api_wrapper=GitHubAPIWrapper(github=<github.MainClass.Github object at 0x7fd174316570>, github_repo_instance=Repository(full_name=\"BENHIMA-Mohamed-Amine/full-guide-for-my-github\"), github_repository='BENHIMA-Mohamed-Amine/full-guide-for-my-github', github_app_id='1472101', github_app_private_key='../secrets/github-app-private-key.pem', active_branch='main', github_base_branch='main'), mode='list_files_in_main_branch'),\n",
       " GitHubAction(name='Overview of files in current working branch', description='\\nThis tool will provide an overview of all files in your current working branch where you should implement changes. This is great for getting a high level overview of the structure of your code. No input parameters are required.', args_schema=<class 'langchain_community.agent_toolkits.github.toolkit.NoInput'>, api_wrapper=GitHubAPIWrapper(github=<github.MainClass.Github object at 0x7fd174316570>, github_repo_instance=Repository(full_name=\"BENHIMA-Mohamed-Amine/full-guide-for-my-github\"), github_repository='BENHIMA-Mohamed-Amine/full-guide-for-my-github', github_app_id='1472101', github_app_private_key='../secrets/github-app-private-key.pem', active_branch='main', github_base_branch='main'), mode='list_files_in_bot_branch'),\n",
       " GitHubAction(name='List branches in this repository', description='\\nThis tool will fetch a list of all branches in the repository. It will return the name of each branch. No input parameters are required.', args_schema=<class 'langchain_community.agent_toolkits.github.toolkit.NoInput'>, api_wrapper=GitHubAPIWrapper(github=<github.MainClass.Github object at 0x7fd174316570>, github_repo_instance=Repository(full_name=\"BENHIMA-Mohamed-Amine/full-guide-for-my-github\"), github_repository='BENHIMA-Mohamed-Amine/full-guide-for-my-github', github_app_id='1472101', github_app_private_key='../secrets/github-app-private-key.pem', active_branch='main', github_base_branch='main'), mode='list_branches_in_repo'),\n",
       " GitHubAction(name='Set active branch', description='\\nThis tool will set the active branch in the repository, similar to `git checkout <branch_name>` and `git switch -c <branch_name>`. **VERY IMPORTANT**: You must specify the name of the branch as a string input parameter.', args_schema=<class 'langchain_community.agent_toolkits.github.toolkit.BranchName'>, api_wrapper=GitHubAPIWrapper(github=<github.MainClass.Github object at 0x7fd174316570>, github_repo_instance=Repository(full_name=\"BENHIMA-Mohamed-Amine/full-guide-for-my-github\"), github_repository='BENHIMA-Mohamed-Amine/full-guide-for-my-github', github_app_id='1472101', github_app_private_key='../secrets/github-app-private-key.pem', active_branch='main', github_base_branch='main'), mode='set_active_branch'),\n",
       " GitHubAction(name='Create a new branch', description='\\nThis tool will create a new branch in the repository. **VERY IMPORTANT**: You must specify the name of the new branch as a string input parameter.', args_schema=<class 'langchain_community.agent_toolkits.github.toolkit.BranchName'>, api_wrapper=GitHubAPIWrapper(github=<github.MainClass.Github object at 0x7fd174316570>, github_repo_instance=Repository(full_name=\"BENHIMA-Mohamed-Amine/full-guide-for-my-github\"), github_repository='BENHIMA-Mohamed-Amine/full-guide-for-my-github', github_app_id='1472101', github_app_private_key='../secrets/github-app-private-key.pem', active_branch='main', github_base_branch='main'), mode='create_branch'),\n",
       " GitHubAction(name='Get files from a directory', description='\\nThis tool will fetch a list of all files in a specified directory. **VERY IMPORTANT**: You must specify the path of the directory as a string input parameter.', args_schema=<class 'langchain_community.agent_toolkits.github.toolkit.DirectoryPath'>, api_wrapper=GitHubAPIWrapper(github=<github.MainClass.Github object at 0x7fd174316570>, github_repo_instance=Repository(full_name=\"BENHIMA-Mohamed-Amine/full-guide-for-my-github\"), github_repository='BENHIMA-Mohamed-Amine/full-guide-for-my-github', github_app_id='1472101', github_app_private_key='../secrets/github-app-private-key.pem', active_branch='main', github_base_branch='main'), mode='get_files_from_directory'),\n",
       " GitHubAction(name='Search issues and pull requests', description='\\nThis tool will search for issues and pull requests in the repository. **VERY IMPORTANT**: You must specify the search query as a string input parameter.', args_schema=<class 'langchain_community.agent_toolkits.github.toolkit.SearchIssuesAndPRs'>, api_wrapper=GitHubAPIWrapper(github=<github.MainClass.Github object at 0x7fd174316570>, github_repo_instance=Repository(full_name=\"BENHIMA-Mohamed-Amine/full-guide-for-my-github\"), github_repository='BENHIMA-Mohamed-Amine/full-guide-for-my-github', github_app_id='1472101', github_app_private_key='../secrets/github-app-private-key.pem', active_branch='main', github_base_branch='main'), mode='search_issues_and_prs'),\n",
       " GitHubAction(name='Search code', description='\\nThis tool will search for code in the repository. **VERY IMPORTANT**: You must specify the search query as a string input parameter.', args_schema=<class 'langchain_community.agent_toolkits.github.toolkit.SearchCode'>, api_wrapper=GitHubAPIWrapper(github=<github.MainClass.Github object at 0x7fd174316570>, github_repo_instance=Repository(full_name=\"BENHIMA-Mohamed-Amine/full-guide-for-my-github\"), github_repository='BENHIMA-Mohamed-Amine/full-guide-for-my-github', github_app_id='1472101', github_app_private_key='../secrets/github-app-private-key.pem', active_branch='main', github_base_branch='main'), mode='search_code'),\n",
       " GitHubAction(name='Create review request', description='\\nThis tool will create a review request on the open pull request that matches the current active branch. **VERY IMPORTANT**: You must specify the username of the person who is being requested as a string input parameter.', args_schema=<class 'langchain_community.agent_toolkits.github.toolkit.CreateReviewRequest'>, api_wrapper=GitHubAPIWrapper(github=<github.MainClass.Github object at 0x7fd174316570>, github_repo_instance=Repository(full_name=\"BENHIMA-Mohamed-Amine/full-guide-for-my-github\"), github_repository='BENHIMA-Mohamed-Amine/full-guide-for-my-github', github_app_id='1472101', github_app_private_key='../secrets/github-app-private-key.pem', active_branch='main', github_base_branch='main'), mode='create_review_request')]"
      ]
     },
     "execution_count": 10,
     "metadata": {},
     "output_type": "execute_result"
    }
   ],
   "source": [
    "# Initialize tools first\n",
    "from langchain_community.utilities.github import GitHubAPIWrapper\n",
    "from langchain_community.agent_toolkits.github.toolkit import GitHubToolkit\n",
    "\n",
    "github_api = GitHubAPIWrapper()\n",
    "toolkit = GitHubToolkit.from_github_api_wrapper(github_api)\n",
    "github_tools = toolkit.get_tools()\n",
    "github_tools"
   ]
  },
  {
   "cell_type": "code",
   "execution_count": 11,
   "id": "4b31bb42",
   "metadata": {},
   "outputs": [],
   "source": [
    "from langchain_core.tools import tool\n",
    "from typing import Dict\n",
    "\n",
    "# Global variables to store GitHub tools\n",
    "read_file_tool = None\n",
    "overview_tool = None\n",
    "\n",
    "def init_github_tools(github_tools):\n",
    "    \"\"\"Initialize GitHub tools from toolkit\"\"\"\n",
    "    global read_file_tool, overview_tool\n",
    "    \n",
    "    read_file_tool = next((tool for tool in github_tools if tool.name == \"Read File\"), None)\n",
    "    overview_tool = next((tool for tool in github_tools if tool.name == \"Overview of existing files in Main branch\"), None)\n",
    "    \n",
    "    if not read_file_tool or not overview_tool:\n",
    "        raise ValueError(\"Required GitHub tools not found\")\n",
    "\n",
    "@tool\n",
    "def read_readme_file() -> str:\n",
    "    \"\"\"\n",
    "    Read the README.md file content from the repository.\n",
    "    Returns the complete README content as a string.\n",
    "    \"\"\"\n",
    "    if read_file_tool is None:\n",
    "        return \"Read File tool is not initialized. Please initialize GitHub tools first.\"\n",
    "    try:\n",
    "        readme_content = read_file_tool.invoke({ \n",
    "            \"formatted_filepath\": \"README.md\"\n",
    "        })\n",
    "        \n",
    "        # Check if the result is an error message\n",
    "        if \"File not found\" in readme_content or \"404\" in readme_content:\n",
    "            return \"README.md file not found in the repository\"\n",
    "        \n",
    "        return readme_content\n",
    "    except Exception as e:\n",
    "        return f\"Error reading README.md: {str(e)}\"\n",
    "\n",
    "@tool \n",
    "def get_project_overview() -> str:\n",
    "    \"\"\"\n",
    "    Get an overview of all files in the main branch of the repository.\n",
    "    Returns a structured view of the project's file organization with the project title.\n",
    "    \"\"\"\n",
    "    if overview_tool is None:\n",
    "        return \"Overview tool is not initialized. Please initialize GitHub tools first.\"\n",
    "    try:\n",
    "        overview = overview_tool.invoke({})\n",
    "        return overview + f\"\\n the project title is {os.getenv('GITHUB_REPOSITORY', 'Unknown Project')}\"\n",
    "    except Exception as e:\n",
    "        return f\"Error getting project overview: {str(e)}\"\n",
    "\n",
    "@tool\n",
    "def detect_tech_stack() -> Dict[str, str] | str:\n",
    "    \"\"\"\n",
    "    Read dependency files to detect technology stack.\n",
    "    Returns a dictionary with file names as keys and their content as values.\n",
    "    \"\"\"\n",
    "    tech_stack_files = {}\n",
    "    \n",
    "    # Common dependency files to check\n",
    "    dependency_files = [\n",
    "        \"package.json\",\n",
    "        \"requirements.txt\", \n",
    "        \"Cargo.toml\",\n",
    "        \"pom.xml\",\n",
    "        \"build.gradle\",\n",
    "        \"go.mod\",\n",
    "        \"composer.json\",\n",
    "        \"Gemfile\",\n",
    "        \"poetry.lock\",\n",
    "        \"yarn.lock\",\n",
    "        \"Pipfile\"\n",
    "    ]\n",
    "    if read_file_tool is None:\n",
    "        return \"Read File tool is not initialized. Please initialize GitHub tools first.\"\n",
    "    \n",
    "    for file_name in dependency_files:\n",
    "        try:\n",
    "            content = read_file_tool.invoke({\n",
    "                \"formatted_filepath\": file_name\n",
    "            })\n",
    "            \n",
    "            # Check if the result is an error message\n",
    "            if \"File not found\" in content or \"404\" in content:\n",
    "                # Skip files that don't exist\n",
    "                continue\n",
    "                \n",
    "            tech_stack_files[file_name] = content\n",
    "        except Exception:\n",
    "            # Skip if there's any other error\n",
    "            continue\n",
    "    \n",
    "    return tech_stack_files \n",
    "\n",
    "# Tools list for LangGraph\n",
    "tools = [detect_tech_stack, read_readme_file, get_project_overview]"
   ]
  },
  {
   "cell_type": "code",
   "execution_count": 12,
   "id": "536c1369",
   "metadata": {},
   "outputs": [
    {
     "name": "stdout",
     "output_type": "stream",
     "text": [
      "Tech stack files found: []\n"
     ]
    }
   ],
   "source": [
    "\n",
    "# Initialize the custom tools\n",
    "init_github_tools(github_tools)\n",
    "\n",
    "# Now use the tools\n",
    "readme_content = read_readme_file.invoke({})\n",
    "overview = get_project_overview.invoke({})\n",
    "tech_files = detect_tech_stack.invoke({})\n",
    "\n",
    "print(\"Tech stack files found:\", list(tech_files.keys()))"
   ]
  },
  {
   "cell_type": "code",
   "execution_count": 13,
   "id": "234bdecc",
   "metadata": {},
   "outputs": [
    {
     "data": {
      "text/plain": [
       "ChatGoogleGenerativeAI(model='models/gemini-2.0-flash', google_api_key=SecretStr('**********'), client=<google.ai.generativelanguage_v1beta.services.generative_service.client.GenerativeServiceClient object at 0x7fd16c75ba40>, default_metadata=(), model_kwargs={})"
      ]
     },
     "execution_count": 13,
     "metadata": {},
     "output_type": "execute_result"
    }
   ],
   "source": [
    "from langchain_google_genai import ChatGoogleGenerativeAI\n",
    "MODEL_NAME = \"gemini-2.0-flash\"\n",
    "model = ChatGoogleGenerativeAI(model=MODEL_NAME)\n",
    "model"
   ]
  },
  {
   "cell_type": "code",
   "execution_count": 14,
   "id": "a5032ac9",
   "metadata": {},
   "outputs": [],
   "source": [
    "LINKEDIN_POST_PROMPT = \"\"\"You are a professional LinkedIn content creator specializing in software development and tech showcase posts.\n",
    "\n",
    "Your task is to create a compelling LinkedIn post that showcases a GitHub project in a professional, engaging manner.\n",
    "\n",
    "## AVAILABLE TOOLS:\n",
    "- read_readme_file(): Get README content\n",
    "- get_project_overview(): Get file structure overview  \n",
    "- detect_tech_stack(): Get technology stack from dependency files\n",
    "- get_repository_metadata(): Get repo name, description, etc.\n",
    "- get_recent_commits(): Get recent development activity\n",
    "\n",
    "## CONTEXT GATHERING:\n",
    "1. First, gather comprehensive information about the project:\n",
    "   - Repository name and description\n",
    "   - Technology stack and dependencies\n",
    "   - Key features from README\n",
    "   - Project structure and organization\n",
    "   - Recent development activity\n",
    "\n",
    "## LINKEDIN POST REQUIREMENTS:\n",
    "\n",
    "### STRUCTURE:\n",
    "1. **Hook** (1-2 lines): Engaging opening that captures attention\n",
    "2. **Project Introduction** (2-3 lines): What the project does and why it matters\n",
    "3. **Technical Highlights** (3-4 lines): Key technologies and interesting implementation details\n",
    "4. **Key Features** (2-3 lines): Main functionalities and benefits\n",
    "5. **Call-to-Action** (1-2 lines): Encourage engagement (check it out, feedback, etc.)\n",
    "6. **Hashtags** (5-8 relevant hashtags)\n",
    "\n",
    "### TONE & STYLE:\n",
    "- Professional but approachable\n",
    "- Focus on business value, not just technical details\n",
    "- Use emojis sparingly (1-2 max)\n",
    "- Write in first person\n",
    "- Keep sentences concise and scannable\n",
    "- Avoid overly technical jargon\n",
    "\n",
    "### FORMATTING:\n",
    "- Use line breaks for readability\n",
    "- Bold key points with **text**\n",
    "- Use bullet points if listing features\n",
    "- Keep total length under 1300 characters\n",
    "- Make it mobile-friendly\n",
    "\n",
    "### CONTENT GUIDELINES:\n",
    "- Highlight the problem the project solves\n",
    "- Mention the tech stack naturally\n",
    "- Include any interesting challenges overcome\n",
    "- Show passion for the technology\n",
    "- Make it relevant to your professional network\n",
    "\n",
    "### HASHTAG STRATEGY:\n",
    "- Include technology-specific tags (#Python, #React, etc.)\n",
    "- Add industry tags (#SoftwareDevelopment, #AI, etc.)\n",
    "- Include community tags (#OpenSource, #GitHub, etc.)\n",
    "- Add personal branding tags (#BuildingInPublic, #TechInnovation)\n",
    "\n",
    "## EXAMPLE OUTPUT FORMAT:\n",
    "Just shipped a new [project type] that [key benefit]! 🚀\n",
    "[Project name] is a [brief description] built to [solve what problem].\n",
    "Tech Stack: [main technologies] on form of bullet points and the purpose of each one.\n",
    "Key Features:\n",
    "\n",
    "- [Feature 1]\n",
    "- [Feature 2]\n",
    "- [Feature 3]\n",
    "\n",
    "Check it out on GitHub and let me know what you think! Always open to feedback and collaboration.\n",
    "#TechTag1 #TechTag2 #SoftwareDevelopment #OpenSource #BuildingInPublic #GitHub #TechInnovation #Programming\n",
    "\n",
    "## INSTRUCTIONS:\n",
    "1. Use ALL available tools to gather comprehensive project information\n",
    "2. Analyze the gathered data to understand the project's value proposition\n",
    "3. Create a LinkedIn post following the structure and guidelines above (you can enhance it with your own insights but keep it short and to the point)\n",
    "4. Ensure the post is engaging, professional, and showcases the project effectively\n",
    "5. Adapt the tone based on the project type (e.g., more technical for dev tools, more business-focused for applications)\n",
    "\n",
    "Begin by gathering all project information using the available tools, then create the LinkedIn post.\n",
    "\"\"\""
   ]
  },
  {
   "cell_type": "code",
   "execution_count": 15,
   "id": "e5962750",
   "metadata": {},
   "outputs": [],
   "source": [
    "from langgraph.prebuilt import create_react_agent\n",
    "from langgraph.checkpoint.memory import InMemorySaver\n",
    "\n",
    "memory = InMemorySaver()\n",
    "\n",
    "# control iteration loop\n",
    "max_iterations = 7\n",
    "recursion_limit = 2 * max_iterations + 1\n",
    "\n",
    "agent = create_react_agent(\n",
    "    model=model,\n",
    "    tools=tools,\n",
    "    prompt=LINKEDIN_POST_PROMPT,\n",
    "    checkpointer=memory,\n",
    "    debug=True,\n",
    ").with_config(recursion_limit=recursion_limit)"
   ]
  },
  {
   "cell_type": "code",
   "execution_count": 16,
   "id": "413221d0",
   "metadata": {},
   "outputs": [],
   "source": [
    "config = {\"configurable\": {\"thread_id\": \"linkedin-agent-1\"}}"
   ]
  },
  {
   "cell_type": "code",
   "execution_count": 17,
   "id": "424c8670",
   "metadata": {},
   "outputs": [
    {
     "name": "stdout",
     "output_type": "stream",
     "text": [
      "\u001b[1m[values]\u001b[0m {'messages': [HumanMessage(content='Create a professional LinkedIn post showcasing this GitHub repository', additional_kwargs={}, response_metadata={}, id='66b5c9f3-d388-441d-89c9-21260ae77d34')]}\n",
      "\u001b[1m[updates]\u001b[0m {'agent': {'messages': [AIMessage(content=\"Okay, I'm ready to create a LinkedIn post. First, I need to gather information about the project using the available tools. I'll start by reading the README file, getting the project overview, and detecting the tech stack.\", additional_kwargs={'function_call': {'name': 'detect_tech_stack', 'arguments': '{}'}}, response_metadata={'prompt_feedback': {'block_reason': 0, 'safety_ratings': []}, 'finish_reason': 'STOP', 'model_name': 'gemini-2.0-flash', 'safety_ratings': []}, id='run--be2d5cc8-e323-4fda-9753-0c36d124a3c7-0', tool_calls=[{'name': 'read_readme_file', 'args': {}, 'id': 'a655ec97-781c-410e-91ca-4db748d45d9a', 'type': 'tool_call'}, {'name': 'get_project_overview', 'args': {}, 'id': '13d39679-1a46-4d7a-8507-76f9c1afa4b9', 'type': 'tool_call'}, {'name': 'detect_tech_stack', 'args': {}, 'id': '5988c9b7-2651-4234-bc4c-456135031457', 'type': 'tool_call'}], usage_metadata={'input_tokens': 855, 'output_tokens': 64, 'total_tokens': 919, 'input_token_details': {'cache_read': 0}})]}}\n",
      "\u001b[1m[values]\u001b[0m {'messages': [HumanMessage(content='Create a professional LinkedIn post showcasing this GitHub repository', additional_kwargs={}, response_metadata={}, id='66b5c9f3-d388-441d-89c9-21260ae77d34'), AIMessage(content=\"Okay, I'm ready to create a LinkedIn post. First, I need to gather information about the project using the available tools. I'll start by reading the README file, getting the project overview, and detecting the tech stack.\", additional_kwargs={'function_call': {'name': 'detect_tech_stack', 'arguments': '{}'}}, response_metadata={'prompt_feedback': {'block_reason': 0, 'safety_ratings': []}, 'finish_reason': 'STOP', 'model_name': 'gemini-2.0-flash', 'safety_ratings': []}, id='run--be2d5cc8-e323-4fda-9753-0c36d124a3c7-0', tool_calls=[{'name': 'read_readme_file', 'args': {}, 'id': 'a655ec97-781c-410e-91ca-4db748d45d9a', 'type': 'tool_call'}, {'name': 'get_project_overview', 'args': {}, 'id': '13d39679-1a46-4d7a-8507-76f9c1afa4b9', 'type': 'tool_call'}, {'name': 'detect_tech_stack', 'args': {}, 'id': '5988c9b7-2651-4234-bc4c-456135031457', 'type': 'tool_call'}], usage_metadata={'input_tokens': 855, 'output_tokens': 64, 'total_tokens': 919, 'input_token_details': {'cache_read': 0}})]}\n",
      "\u001b[1m[updates]\u001b[0m {'tools': {'messages': [ToolMessage(content='Found 1 files in the main branch:\\nREADME.md\\n the project title is BENHIMA-Mohamed-Amine/full-guide-for-my-github', name='get_project_overview', tool_call_id='13d39679-1a46-4d7a-8507-76f9c1afa4b9')]}}\n",
      "\u001b[1m[updates]\u001b[0m {'tools': {'messages': [ToolMessage(content='\\n# full-guide-for-my-github\\n\\nThis repo contains important links to my repos in github, to facilitate navigation for viewers\\n\\n#### GenAI\\n- [Agentic coding exercise generation and evaluation project using: langchain, langgraph (ReACT agent), lagnsmith (LLM Monotoring and Debugging), Sandbox tool, Flask for REST API and Render for deployment](https://github.com/BENHIMA-Mohamed-Amine/generate-qcm-codingExo-evaluate-codingExo)\\n- [Website Summarizer that summarizes websites by providing only their URL, using LangChain (RAG) and Streamlit for interface and deplyoment](https://github.com/BENHIMA-Mohamed-Amine/Website-Summarizer)\\n- [Use Semantic search on an existing db using chromadb](https://github.com/BENHIMA-Mohamed-Amine/Semantic_search_using_chromadb/blob/main/semantic_search_using_chromadb.ipynb)\\n- [Solifood project, my tasks were: implementing hybrid search, recommendation system, AI assistant](https://github.com/solution-challenge-2024/semantic_search)\\n\\n#### NLP\\n- [fine-tuning bert on customer banks reviews using HuggingFace](https://github.com/BENHIMA-Mohamed-Amine/fine-tuning-bert)\\n\\n- [Bidirectional Arabic-English Translation Application using hugging face and flask](https://github.com/BENHIMA-Mohamed-Amine/Bidirectional-Arabic-English-Translation-Application)\\n- [Build a Transformer architecture using TensorFlow for MT from es to en](https://github.com/BENHIMA-Mohamed-Amine/NLP-Projects/blob/master/build_a_transformer_network_tensorflow.ipynb)\\n- [Build and train a CBOW model from scratch using Numpy, and visualize results](https://github.com/BENHIMA-Mohamed-Amine/NLP-Projects/tree/master/Build-Train-CBOW-model)\\n- [Auto Complete words using N-grams language model from scratch](https://github.com/BENHIMA-Mohamed-Amine/NLP-Projects/tree/master/Word-AutoComplete-Ngram)\\n- [POS Tagging using HMMs and Viterbi algo from scratch](https://github.com/BENHIMA-Mohamed-Amine/NLP-Projects/tree/master/POS-Tagging-HMM-Viterbi)\\n- [Frequency Based Sentiment Analysis in naive bayes from scratch using Numpy for better intuition](https://github.com/BENHIMA-Mohamed-Amine/NLP-Projects/tree/master/Naive-Baye-Sentiment-Analysis)\\n- [Frequency Based Sentiment Analysis in Logistic Regression from scratch using Numpy for deepe understanding](https://github.com/BENHIMA-Mohamed-Amine/NLP-Projects/tree/master/Frequency-Based-Sentiment-Analysis-in-Logistic-Regression)\\n\\n### CV Project\\n- [Fine-tuning resnet50 on PlantVillage dataset for Plant diseases detection](https://github.com/BENHIMA-Mohamed-Amine/Plant-Diseases-Detection-ResNet50-PlantVillage-Dataset)\\n- [Player object detection using YoLOv8](https://github.com/BENHIMA-Mohamed-Amine/Blockard-Player-Object-Detection)\\n\\n#### ML projects\\n- [Build NN using Pytorch and train it on iris dataset](https://github.com/BENHIMA-Mohamed-Amine/iris-prbl-torch/blob/main/iris_classification_pytorch.ipynb) \\n- [Build a KNN Classifier from scratch using NumPy](https://github.com/BENHIMA-Mohamed-Amine/KNN_from_scratch/blob/main/knn.ipynb)\\n  - Train in on the Iris dataset from sklearn\\n  - Accuracy: 97% \\n- [Dermatology multi classification using Logistic Regression](https://github.com/BENHIMA-Mohamed-Amine/Dermatology-/blob/main/multi-class-with-logistic-regression.ipynb)\\n  - using fasteda and dabl for EDA\\n  - Logistic Regression model for classification\\n  - classification report to show up metrics\\n- [Binary classifier for Ad click](https://github.com/BENHIMA-Mohamed-Amine/add-click-logistic-regression/blob/main/advertising.csv)\\n  - EDA\\n  - Hyper-parameter tuning using GridSearchCV \\n- [Different techniques to handle outliers](https://github.com/BENHIMA-Mohamed-Amine/handle-outliers/blob/main/handle_outliers.ipynb)\\n- [Handling missing values on the Titanic dataset](https://github.com/BENHIMA-Mohamed-Amine/Handle-missing-values/blob/main/handling_messing_values.ipynb)\\n- [L layer NN from Scratch using Numpy, for cat classification](https://github.com/BENHIMA-Mohamed-Amine/Binary-classification/blob/master/NN_multiple_hidden_layer.ipynb)\\n- [NN with 1 hidden layer from scratch using Numpy](https://github.com/BENHIMA-Mohamed-Amine/NN-with-one-hidden-layer/blob/master/planar_classification_model.ipynb)\\n- [Cat classification using logistic regression from scratch and test it using F1 score](https://github.com/BENHIMA-Mohamed-Amine/Binary-classification/blob/master/vectorized%20_binary_classification%20_cats.ipynb)\\n- [Cat classification with logistic regression using scikit-learn](https://github.com/BENHIMA-Mohamed-Amine/Binary-classification/blob/master/sklearn_binary_classification_cats.ipynb)\\n#### Web Development \\n- [stock managment website using html, css, js, php, mysql and Merise](https://github.com/BENHIMA-Mohamed-Amine/stock-management)\\n  \\n#### Problem Solving, Data Structures and Algorithms\\n- [Building a complex type for complex numbers from scratch in c++](https://github.com/BENHIMA-Mohamed-Amine/complex_type_from_scratch)\\n  - this project is part of my engineering degree \\n- [Convolution operation with padding on dynamic matrices](https://github.com/BENHIMA-Mohamed-Amine/Data-Structures-and-algo/tree/master/matrixConvolution)\\n- [Fibonacci Solution in C using Recursion, Iteration, and Matrix Exponentiation](https://github.com/BENHIMA-Mohamed-Amine/Data-Structures-and-algo/blob/master/fibonacci-problem.c)\\n- [Amstrong number using C](https://github.com/BENHIMA-Mohamed-Amine/Data-Structures-and-algo/blob/master/amstrong.c)\\n- [Switching a pair in C](https://github.com/BENHIMA-Mohamed-Amine/Data-Structures-and-algo/blob/master/switch-pair.c)\\n- [Calculate the square root of a number using Newton-Raphson Method in C](https://github.com/BENHIMA-Mohamed-Amine/Data-Structures-and-algo/tree/master/Square-root)\\n\\n', name='read_readme_file', tool_call_id='a655ec97-781c-410e-91ca-4db748d45d9a')]}}\n",
      "\u001b[1m[updates]\u001b[0m {'tools': {'messages': [ToolMessage(content='{}', name='detect_tech_stack', tool_call_id='5988c9b7-2651-4234-bc4c-456135031457')]}}\n",
      "\u001b[1m[values]\u001b[0m {'messages': [HumanMessage(content='Create a professional LinkedIn post showcasing this GitHub repository', additional_kwargs={}, response_metadata={}, id='66b5c9f3-d388-441d-89c9-21260ae77d34'), AIMessage(content=\"Okay, I'm ready to create a LinkedIn post. First, I need to gather information about the project using the available tools. I'll start by reading the README file, getting the project overview, and detecting the tech stack.\", additional_kwargs={'function_call': {'name': 'detect_tech_stack', 'arguments': '{}'}}, response_metadata={'prompt_feedback': {'block_reason': 0, 'safety_ratings': []}, 'finish_reason': 'STOP', 'model_name': 'gemini-2.0-flash', 'safety_ratings': []}, id='run--be2d5cc8-e323-4fda-9753-0c36d124a3c7-0', tool_calls=[{'name': 'read_readme_file', 'args': {}, 'id': 'a655ec97-781c-410e-91ca-4db748d45d9a', 'type': 'tool_call'}, {'name': 'get_project_overview', 'args': {}, 'id': '13d39679-1a46-4d7a-8507-76f9c1afa4b9', 'type': 'tool_call'}, {'name': 'detect_tech_stack', 'args': {}, 'id': '5988c9b7-2651-4234-bc4c-456135031457', 'type': 'tool_call'}], usage_metadata={'input_tokens': 855, 'output_tokens': 64, 'total_tokens': 919, 'input_token_details': {'cache_read': 0}}), ToolMessage(content='\\n# full-guide-for-my-github\\n\\nThis repo contains important links to my repos in github, to facilitate navigation for viewers\\n\\n#### GenAI\\n- [Agentic coding exercise generation and evaluation project using: langchain, langgraph (ReACT agent), lagnsmith (LLM Monotoring and Debugging), Sandbox tool, Flask for REST API and Render for deployment](https://github.com/BENHIMA-Mohamed-Amine/generate-qcm-codingExo-evaluate-codingExo)\\n- [Website Summarizer that summarizes websites by providing only their URL, using LangChain (RAG) and Streamlit for interface and deplyoment](https://github.com/BENHIMA-Mohamed-Amine/Website-Summarizer)\\n- [Use Semantic search on an existing db using chromadb](https://github.com/BENHIMA-Mohamed-Amine/Semantic_search_using_chromadb/blob/main/semantic_search_using_chromadb.ipynb)\\n- [Solifood project, my tasks were: implementing hybrid search, recommendation system, AI assistant](https://github.com/solution-challenge-2024/semantic_search)\\n\\n#### NLP\\n- [fine-tuning bert on customer banks reviews using HuggingFace](https://github.com/BENHIMA-Mohamed-Amine/fine-tuning-bert)\\n\\n- [Bidirectional Arabic-English Translation Application using hugging face and flask](https://github.com/BENHIMA-Mohamed-Amine/Bidirectional-Arabic-English-Translation-Application)\\n- [Build a Transformer architecture using TensorFlow for MT from es to en](https://github.com/BENHIMA-Mohamed-Amine/NLP-Projects/blob/master/build_a_transformer_network_tensorflow.ipynb)\\n- [Build and train a CBOW model from scratch using Numpy, and visualize results](https://github.com/BENHIMA-Mohamed-Amine/NLP-Projects/tree/master/Build-Train-CBOW-model)\\n- [Auto Complete words using N-grams language model from scratch](https://github.com/BENHIMA-Mohamed-Amine/NLP-Projects/tree/master/Word-AutoComplete-Ngram)\\n- [POS Tagging using HMMs and Viterbi algo from scratch](https://github.com/BENHIMA-Mohamed-Amine/NLP-Projects/tree/master/POS-Tagging-HMM-Viterbi)\\n- [Frequency Based Sentiment Analysis in naive bayes from scratch using Numpy for better intuition](https://github.com/BENHIMA-Mohamed-Amine/NLP-Projects/tree/master/Naive-Baye-Sentiment-Analysis)\\n- [Frequency Based Sentiment Analysis in Logistic Regression from scratch using Numpy for deepe understanding](https://github.com/BENHIMA-Mohamed-Amine/NLP-Projects/tree/master/Frequency-Based-Sentiment-Analysis-in-Logistic-Regression)\\n\\n### CV Project\\n- [Fine-tuning resnet50 on PlantVillage dataset for Plant diseases detection](https://github.com/BENHIMA-Mohamed-Amine/Plant-Diseases-Detection-ResNet50-PlantVillage-Dataset)\\n- [Player object detection using YoLOv8](https://github.com/BENHIMA-Mohamed-Amine/Blockard-Player-Object-Detection)\\n\\n#### ML projects\\n- [Build NN using Pytorch and train it on iris dataset](https://github.com/BENHIMA-Mohamed-Amine/iris-prbl-torch/blob/main/iris_classification_pytorch.ipynb) \\n- [Build a KNN Classifier from scratch using NumPy](https://github.com/BENHIMA-Mohamed-Amine/KNN_from_scratch/blob/main/knn.ipynb)\\n  - Train in on the Iris dataset from sklearn\\n  - Accuracy: 97% \\n- [Dermatology multi classification using Logistic Regression](https://github.com/BENHIMA-Mohamed-Amine/Dermatology-/blob/main/multi-class-with-logistic-regression.ipynb)\\n  - using fasteda and dabl for EDA\\n  - Logistic Regression model for classification\\n  - classification report to show up metrics\\n- [Binary classifier for Ad click](https://github.com/BENHIMA-Mohamed-Amine/add-click-logistic-regression/blob/main/advertising.csv)\\n  - EDA\\n  - Hyper-parameter tuning using GridSearchCV \\n- [Different techniques to handle outliers](https://github.com/BENHIMA-Mohamed-Amine/handle-outliers/blob/main/handle_outliers.ipynb)\\n- [Handling missing values on the Titanic dataset](https://github.com/BENHIMA-Mohamed-Amine/Handle-missing-values/blob/main/handling_messing_values.ipynb)\\n- [L layer NN from Scratch using Numpy, for cat classification](https://github.com/BENHIMA-Mohamed-Amine/Binary-classification/blob/master/NN_multiple_hidden_layer.ipynb)\\n- [NN with 1 hidden layer from scratch using Numpy](https://github.com/BENHIMA-Mohamed-Amine/NN-with-one-hidden-layer/blob/master/planar_classification_model.ipynb)\\n- [Cat classification using logistic regression from scratch and test it using F1 score](https://github.com/BENHIMA-Mohamed-Amine/Binary-classification/blob/master/vectorized%20_binary_classification%20_cats.ipynb)\\n- [Cat classification with logistic regression using scikit-learn](https://github.com/BENHIMA-Mohamed-Amine/Binary-classification/blob/master/sklearn_binary_classification_cats.ipynb)\\n#### Web Development \\n- [stock managment website using html, css, js, php, mysql and Merise](https://github.com/BENHIMA-Mohamed-Amine/stock-management)\\n  \\n#### Problem Solving, Data Structures and Algorithms\\n- [Building a complex type for complex numbers from scratch in c++](https://github.com/BENHIMA-Mohamed-Amine/complex_type_from_scratch)\\n  - this project is part of my engineering degree \\n- [Convolution operation with padding on dynamic matrices](https://github.com/BENHIMA-Mohamed-Amine/Data-Structures-and-algo/tree/master/matrixConvolution)\\n- [Fibonacci Solution in C using Recursion, Iteration, and Matrix Exponentiation](https://github.com/BENHIMA-Mohamed-Amine/Data-Structures-and-algo/blob/master/fibonacci-problem.c)\\n- [Amstrong number using C](https://github.com/BENHIMA-Mohamed-Amine/Data-Structures-and-algo/blob/master/amstrong.c)\\n- [Switching a pair in C](https://github.com/BENHIMA-Mohamed-Amine/Data-Structures-and-algo/blob/master/switch-pair.c)\\n- [Calculate the square root of a number using Newton-Raphson Method in C](https://github.com/BENHIMA-Mohamed-Amine/Data-Structures-and-algo/tree/master/Square-root)\\n\\n', name='read_readme_file', id='e2878056-b98a-48d2-b88f-54ebeeefff0f', tool_call_id='a655ec97-781c-410e-91ca-4db748d45d9a'), ToolMessage(content='Found 1 files in the main branch:\\nREADME.md\\n the project title is BENHIMA-Mohamed-Amine/full-guide-for-my-github', name='get_project_overview', id='a198af2e-47ed-49c9-a01f-3c8a7328880d', tool_call_id='13d39679-1a46-4d7a-8507-76f9c1afa4b9'), ToolMessage(content='{}', name='detect_tech_stack', id='37889333-164b-4326-bc63-42c0a192a495', tool_call_id='5988c9b7-2651-4234-bc4c-456135031457')]}\n",
      "\u001b[1m[updates]\u001b[0m {'agent': {'messages': [AIMessage(content=\"Navigating my GitHub can be a maze! 🧭 That's why I created a central guide to showcase my projects.\\nThis repo, **full-guide-for-my-github**, provides a curated list of links to my various projects, making it easier to explore my work.\\nIt covers areas like:\\n*   **GenAI**: Agentic coding, website summarization\\n*   **NLP**: Translation apps, sentiment analysis\\n*   **CV**: Plant disease detection\\n*   **ML**: Classification models\\n*   **Web Dev**: Stock management website\\n\\nCheck it out to see my work across different domains! Open to connections and feedback.\\n#GitHub #OpenSource #Portfolio #SoftwareDevelopment #MachineLearning #NLP #GenAI #WebDev\", additional_kwargs={}, response_metadata={'prompt_feedback': {'block_reason': 0, 'safety_ratings': []}, 'finish_reason': 'STOP', 'model_name': 'gemini-2.0-flash', 'safety_ratings': []}, id='run--ac97828f-298f-4f7c-8cec-87db416412f9-0', usage_metadata={'input_tokens': 2542, 'output_tokens': 158, 'total_tokens': 2700, 'input_token_details': {'cache_read': 0}})]}}\n",
      "\u001b[1m[values]\u001b[0m {'messages': [HumanMessage(content='Create a professional LinkedIn post showcasing this GitHub repository', additional_kwargs={}, response_metadata={}, id='66b5c9f3-d388-441d-89c9-21260ae77d34'), AIMessage(content=\"Okay, I'm ready to create a LinkedIn post. First, I need to gather information about the project using the available tools. I'll start by reading the README file, getting the project overview, and detecting the tech stack.\", additional_kwargs={'function_call': {'name': 'detect_tech_stack', 'arguments': '{}'}}, response_metadata={'prompt_feedback': {'block_reason': 0, 'safety_ratings': []}, 'finish_reason': 'STOP', 'model_name': 'gemini-2.0-flash', 'safety_ratings': []}, id='run--be2d5cc8-e323-4fda-9753-0c36d124a3c7-0', tool_calls=[{'name': 'read_readme_file', 'args': {}, 'id': 'a655ec97-781c-410e-91ca-4db748d45d9a', 'type': 'tool_call'}, {'name': 'get_project_overview', 'args': {}, 'id': '13d39679-1a46-4d7a-8507-76f9c1afa4b9', 'type': 'tool_call'}, {'name': 'detect_tech_stack', 'args': {}, 'id': '5988c9b7-2651-4234-bc4c-456135031457', 'type': 'tool_call'}], usage_metadata={'input_tokens': 855, 'output_tokens': 64, 'total_tokens': 919, 'input_token_details': {'cache_read': 0}}), ToolMessage(content='\\n# full-guide-for-my-github\\n\\nThis repo contains important links to my repos in github, to facilitate navigation for viewers\\n\\n#### GenAI\\n- [Agentic coding exercise generation and evaluation project using: langchain, langgraph (ReACT agent), lagnsmith (LLM Monotoring and Debugging), Sandbox tool, Flask for REST API and Render for deployment](https://github.com/BENHIMA-Mohamed-Amine/generate-qcm-codingExo-evaluate-codingExo)\\n- [Website Summarizer that summarizes websites by providing only their URL, using LangChain (RAG) and Streamlit for interface and deplyoment](https://github.com/BENHIMA-Mohamed-Amine/Website-Summarizer)\\n- [Use Semantic search on an existing db using chromadb](https://github.com/BENHIMA-Mohamed-Amine/Semantic_search_using_chromadb/blob/main/semantic_search_using_chromadb.ipynb)\\n- [Solifood project, my tasks were: implementing hybrid search, recommendation system, AI assistant](https://github.com/solution-challenge-2024/semantic_search)\\n\\n#### NLP\\n- [fine-tuning bert on customer banks reviews using HuggingFace](https://github.com/BENHIMA-Mohamed-Amine/fine-tuning-bert)\\n\\n- [Bidirectional Arabic-English Translation Application using hugging face and flask](https://github.com/BENHIMA-Mohamed-Amine/Bidirectional-Arabic-English-Translation-Application)\\n- [Build a Transformer architecture using TensorFlow for MT from es to en](https://github.com/BENHIMA-Mohamed-Amine/NLP-Projects/blob/master/build_a_transformer_network_tensorflow.ipynb)\\n- [Build and train a CBOW model from scratch using Numpy, and visualize results](https://github.com/BENHIMA-Mohamed-Amine/NLP-Projects/tree/master/Build-Train-CBOW-model)\\n- [Auto Complete words using N-grams language model from scratch](https://github.com/BENHIMA-Mohamed-Amine/NLP-Projects/tree/master/Word-AutoComplete-Ngram)\\n- [POS Tagging using HMMs and Viterbi algo from scratch](https://github.com/BENHIMA-Mohamed-Amine/NLP-Projects/tree/master/POS-Tagging-HMM-Viterbi)\\n- [Frequency Based Sentiment Analysis in naive bayes from scratch using Numpy for better intuition](https://github.com/BENHIMA-Mohamed-Amine/NLP-Projects/tree/master/Naive-Baye-Sentiment-Analysis)\\n- [Frequency Based Sentiment Analysis in Logistic Regression from scratch using Numpy for deepe understanding](https://github.com/BENHIMA-Mohamed-Amine/NLP-Projects/tree/master/Frequency-Based-Sentiment-Analysis-in-Logistic-Regression)\\n\\n### CV Project\\n- [Fine-tuning resnet50 on PlantVillage dataset for Plant diseases detection](https://github.com/BENHIMA-Mohamed-Amine/Plant-Diseases-Detection-ResNet50-PlantVillage-Dataset)\\n- [Player object detection using YoLOv8](https://github.com/BENHIMA-Mohamed-Amine/Blockard-Player-Object-Detection)\\n\\n#### ML projects\\n- [Build NN using Pytorch and train it on iris dataset](https://github.com/BENHIMA-Mohamed-Amine/iris-prbl-torch/blob/main/iris_classification_pytorch.ipynb) \\n- [Build a KNN Classifier from scratch using NumPy](https://github.com/BENHIMA-Mohamed-Amine/KNN_from_scratch/blob/main/knn.ipynb)\\n  - Train in on the Iris dataset from sklearn\\n  - Accuracy: 97% \\n- [Dermatology multi classification using Logistic Regression](https://github.com/BENHIMA-Mohamed-Amine/Dermatology-/blob/main/multi-class-with-logistic-regression.ipynb)\\n  - using fasteda and dabl for EDA\\n  - Logistic Regression model for classification\\n  - classification report to show up metrics\\n- [Binary classifier for Ad click](https://github.com/BENHIMA-Mohamed-Amine/add-click-logistic-regression/blob/main/advertising.csv)\\n  - EDA\\n  - Hyper-parameter tuning using GridSearchCV \\n- [Different techniques to handle outliers](https://github.com/BENHIMA-Mohamed-Amine/handle-outliers/blob/main/handle_outliers.ipynb)\\n- [Handling missing values on the Titanic dataset](https://github.com/BENHIMA-Mohamed-Amine/Handle-missing-values/blob/main/handling_messing_values.ipynb)\\n- [L layer NN from Scratch using Numpy, for cat classification](https://github.com/BENHIMA-Mohamed-Amine/Binary-classification/blob/master/NN_multiple_hidden_layer.ipynb)\\n- [NN with 1 hidden layer from scratch using Numpy](https://github.com/BENHIMA-Mohamed-Amine/NN-with-one-hidden-layer/blob/master/planar_classification_model.ipynb)\\n- [Cat classification using logistic regression from scratch and test it using F1 score](https://github.com/BENHIMA-Mohamed-Amine/Binary-classification/blob/master/vectorized%20_binary_classification%20_cats.ipynb)\\n- [Cat classification with logistic regression using scikit-learn](https://github.com/BENHIMA-Mohamed-Amine/Binary-classification/blob/master/sklearn_binary_classification_cats.ipynb)\\n#### Web Development \\n- [stock managment website using html, css, js, php, mysql and Merise](https://github.com/BENHIMA-Mohamed-Amine/stock-management)\\n  \\n#### Problem Solving, Data Structures and Algorithms\\n- [Building a complex type for complex numbers from scratch in c++](https://github.com/BENHIMA-Mohamed-Amine/complex_type_from_scratch)\\n  - this project is part of my engineering degree \\n- [Convolution operation with padding on dynamic matrices](https://github.com/BENHIMA-Mohamed-Amine/Data-Structures-and-algo/tree/master/matrixConvolution)\\n- [Fibonacci Solution in C using Recursion, Iteration, and Matrix Exponentiation](https://github.com/BENHIMA-Mohamed-Amine/Data-Structures-and-algo/blob/master/fibonacci-problem.c)\\n- [Amstrong number using C](https://github.com/BENHIMA-Mohamed-Amine/Data-Structures-and-algo/blob/master/amstrong.c)\\n- [Switching a pair in C](https://github.com/BENHIMA-Mohamed-Amine/Data-Structures-and-algo/blob/master/switch-pair.c)\\n- [Calculate the square root of a number using Newton-Raphson Method in C](https://github.com/BENHIMA-Mohamed-Amine/Data-Structures-and-algo/tree/master/Square-root)\\n\\n', name='read_readme_file', id='e2878056-b98a-48d2-b88f-54ebeeefff0f', tool_call_id='a655ec97-781c-410e-91ca-4db748d45d9a'), ToolMessage(content='Found 1 files in the main branch:\\nREADME.md\\n the project title is BENHIMA-Mohamed-Amine/full-guide-for-my-github', name='get_project_overview', id='a198af2e-47ed-49c9-a01f-3c8a7328880d', tool_call_id='13d39679-1a46-4d7a-8507-76f9c1afa4b9'), ToolMessage(content='{}', name='detect_tech_stack', id='37889333-164b-4326-bc63-42c0a192a495', tool_call_id='5988c9b7-2651-4234-bc4c-456135031457'), AIMessage(content=\"Navigating my GitHub can be a maze! 🧭 That's why I created a central guide to showcase my projects.\\nThis repo, **full-guide-for-my-github**, provides a curated list of links to my various projects, making it easier to explore my work.\\nIt covers areas like:\\n*   **GenAI**: Agentic coding, website summarization\\n*   **NLP**: Translation apps, sentiment analysis\\n*   **CV**: Plant disease detection\\n*   **ML**: Classification models\\n*   **Web Dev**: Stock management website\\n\\nCheck it out to see my work across different domains! Open to connections and feedback.\\n#GitHub #OpenSource #Portfolio #SoftwareDevelopment #MachineLearning #NLP #GenAI #WebDev\", additional_kwargs={}, response_metadata={'prompt_feedback': {'block_reason': 0, 'safety_ratings': []}, 'finish_reason': 'STOP', 'model_name': 'gemini-2.0-flash', 'safety_ratings': []}, id='run--ac97828f-298f-4f7c-8cec-87db416412f9-0', usage_metadata={'input_tokens': 2542, 'output_tokens': 158, 'total_tokens': 2700, 'input_token_details': {'cache_read': 0}})]}\n"
     ]
    }
   ],
   "source": [
    "response = agent.invoke(\n",
    "    {\"messages\": [(\"user\", \"Create a professional LinkedIn post showcasing this GitHub repository\")]}, \n",
    "    config # type: ignore\n",
    ")"
   ]
  },
  {
   "cell_type": "code",
   "execution_count": 22,
   "id": "44339f1a",
   "metadata": {},
   "outputs": [
    {
     "data": {
      "text/markdown": [
       "Navigating my GitHub can be a maze! 🧭 That's why I created a central guide to showcase my projects.\n",
       "This repo, **full-guide-for-my-github**, provides a curated list of links to my various projects, making it easier to explore my work.\n",
       "It covers areas like:\n",
       "*   **GenAI**: Agentic coding, website summarization\n",
       "*   **NLP**: Translation apps, sentiment analysis\n",
       "*   **CV**: Plant disease detection\n",
       "*   **ML**: Classification models\n",
       "*   **Web Dev**: Stock management website\n",
       "\n",
       "Check it out to see my work across different domains! Open to connections and feedback.\n",
       "#GitHub #OpenSource #Portfolio #SoftwareDevelopment #MachineLearning #NLP #GenAI #WebDev"
      ],
      "text/plain": [
       "<IPython.core.display.Markdown object>"
      ]
     },
     "metadata": {},
     "output_type": "display_data"
    }
   ],
   "source": [
    "from IPython.display import display, Markdown\n",
    "display(Markdown(response['messages'][-1].content))"
   ]
  },
  {
   "cell_type": "code",
   "execution_count": null,
   "id": "648d4296",
   "metadata": {},
   "outputs": [],
   "source": []
  }
 ],
 "metadata": {
  "kernelspec": {
   "display_name": ".venv",
   "language": "python",
   "name": "python3"
  },
  "language_info": {
   "codemirror_mode": {
    "name": "ipython",
    "version": 3
   },
   "file_extension": ".py",
   "mimetype": "text/x-python",
   "name": "python",
   "nbconvert_exporter": "python",
   "pygments_lexer": "ipython3",
   "version": "3.12.3"
  }
 },
 "nbformat": 4,
 "nbformat_minor": 5
}
